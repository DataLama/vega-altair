{
 "cells": [
  {
   "cell_type": "code",
   "execution_count": 1,
   "id": "42267bcb-6963-44e3-8ff5-d3342120679d",
   "metadata": {
    "tags": []
   },
   "outputs": [],
   "source": [
    "import pandas as pd"
   ]
  },
  {
   "cell_type": "code",
   "execution_count": 2,
   "id": "0389c53c-4a5d-4c62-923c-2e971d6f1973",
   "metadata": {
    "tags": []
   },
   "outputs": [],
   "source": [
    "df = pd.read_csv('validation.tsv', sep='\\t')"
   ]
  },
  {
   "cell_type": "code",
   "execution_count": 6,
   "id": "4bbede1a-5267-488e-882b-e775ae022e52",
   "metadata": {
    "tags": []
   },
   "outputs": [],
   "source": [
    "\"\"\"Visualize the multiple line-chart with vega-altair.\"\"\"\n",
    "from typing import List\n",
    "import pandas as pd\n",
    "import altair as alt\n",
    "\n",
    "def plot_hcc_line(\n",
    "    df:pd.DataFrame,\n",
    "    xcol:str,\n",
    "    ycols:List[str],\n",
    "    catecol:str\n",
    "):\n",
    "    \"\"\"Plot Horizontal Concatenated Chart with line chart.\n",
    "    \n",
    "    Args:\n",
    "        df: pivoted dataframe.\n",
    "        xcol: column name for xaxis\n",
    "        ycols: list of column name for yaxis\n",
    "        catecol: nominal column witch discrete the lines by color.\n",
    "    \"\"\"\n",
    "    dmin = round(df.loc[:,ycols].values.min() - 0.01, 2)\n",
    "    dmax = round(df.loc[:,ycols].values.max() + 0.01, 2)\n",
    "    y_scale = alt.Scale(domainMin=dmin, domainMax=dmax)\n",
    "    sub_df = df.loc[:,[catecol, xcol, *ycols]]\n",
    "    \n",
    "    chart = alt.Chart(sub_df).mark_line().encode(\n",
    "        alt.X(alt.repeat(\"row\"), type='quantitative'),\n",
    "        alt.Y(alt.repeat(\"column\"), type='quantitative', scale=y_scale),\n",
    "        color=f\"{catecol}:N\"\n",
    "    ).properties(\n",
    "        width=200,\n",
    "        height=200\n",
    "    ).repeat(\n",
    "        row=[xcol],\n",
    "        column=ycols\n",
    "    )\n",
    "    return chart"
   ]
  },
  {
   "cell_type": "markdown",
   "id": "4d3cfb68-b2ce-4e21-9731-62488af03ac5",
   "metadata": {},
   "source": [
    "---"
   ]
  },
  {
   "cell_type": "code",
   "execution_count": 4,
   "id": "13c4974f-30b4-40f1-b081-75ce61288886",
   "metadata": {
    "tags": []
   },
   "outputs": [],
   "source": [
    "xcol = 'epoch'\n",
    "ycols = ['cos_sim-NDCG@10', 'cos_sim-MAP@100', 'cos_sim-Recall@10']\n",
    "catecol = 'backbone_model'"
   ]
  },
  {
   "cell_type": "code",
   "execution_count": 7,
   "id": "0edbe038-5052-4c8b-bf21-885eeec99a6f",
   "metadata": {
    "tags": []
   },
   "outputs": [
    {
     "data": {
      "text/html": [
       "\n",
       "<style>\n",
       "  #altair-viz-d401f5546ee14f33908e854ce54274f9.vega-embed {\n",
       "    width: 100%;\n",
       "    display: flex;\n",
       "  }\n",
       "\n",
       "  #altair-viz-d401f5546ee14f33908e854ce54274f9.vega-embed details,\n",
       "  #altair-viz-d401f5546ee14f33908e854ce54274f9.vega-embed details summary {\n",
       "    position: relative;\n",
       "  }\n",
       "</style>\n",
       "<div id=\"altair-viz-d401f5546ee14f33908e854ce54274f9\"></div>\n",
       "<script type=\"text/javascript\">\n",
       "  var VEGA_DEBUG = (typeof VEGA_DEBUG == \"undefined\") ? {} : VEGA_DEBUG;\n",
       "  (function(spec, embedOpt){\n",
       "    let outputDiv = document.currentScript.previousElementSibling;\n",
       "    if (outputDiv.id !== \"altair-viz-d401f5546ee14f33908e854ce54274f9\") {\n",
       "      outputDiv = document.getElementById(\"altair-viz-d401f5546ee14f33908e854ce54274f9\");\n",
       "    }\n",
       "    const paths = {\n",
       "      \"vega\": \"https://cdn.jsdelivr.net/npm/vega@5?noext\",\n",
       "      \"vega-lib\": \"https://cdn.jsdelivr.net/npm/vega-lib?noext\",\n",
       "      \"vega-lite\": \"https://cdn.jsdelivr.net/npm/vega-lite@5.8.0?noext\",\n",
       "      \"vega-embed\": \"https://cdn.jsdelivr.net/npm/vega-embed@6?noext\",\n",
       "    };\n",
       "\n",
       "    function maybeLoadScript(lib, version) {\n",
       "      var key = `${lib.replace(\"-\", \"\")}_version`;\n",
       "      return (VEGA_DEBUG[key] == version) ?\n",
       "        Promise.resolve(paths[lib]) :\n",
       "        new Promise(function(resolve, reject) {\n",
       "          var s = document.createElement('script');\n",
       "          document.getElementsByTagName(\"head\")[0].appendChild(s);\n",
       "          s.async = true;\n",
       "          s.onload = () => {\n",
       "            VEGA_DEBUG[key] = version;\n",
       "            return resolve(paths[lib]);\n",
       "          };\n",
       "          s.onerror = () => reject(`Error loading script: ${paths[lib]}`);\n",
       "          s.src = paths[lib];\n",
       "        });\n",
       "    }\n",
       "\n",
       "    function showError(err) {\n",
       "      outputDiv.innerHTML = `<div class=\"error\" style=\"color:red;\">${err}</div>`;\n",
       "      throw err;\n",
       "    }\n",
       "\n",
       "    function displayChart(vegaEmbed) {\n",
       "      vegaEmbed(outputDiv, spec, embedOpt)\n",
       "        .catch(err => showError(`Javascript Error: ${err.message}<br>This usually means there's a typo in your chart specification. See the javascript console for the full traceback.`));\n",
       "    }\n",
       "\n",
       "    if(typeof define === \"function\" && define.amd) {\n",
       "      requirejs.config({paths});\n",
       "      require([\"vega-embed\"], displayChart, err => showError(`Error loading script: ${err.message}`));\n",
       "    } else {\n",
       "      maybeLoadScript(\"vega\", \"5\")\n",
       "        .then(() => maybeLoadScript(\"vega-lite\", \"5.8.0\"))\n",
       "        .then(() => maybeLoadScript(\"vega-embed\", \"6\"))\n",
       "        .catch(showError)\n",
       "        .then(() => displayChart(vegaEmbed));\n",
       "    }\n",
       "  })({\"config\": {\"view\": {\"continuousWidth\": 300, \"continuousHeight\": 300}}, \"repeat\": {\"column\": [\"cos_sim-NDCG@10\", \"cos_sim-MAP@100\", \"cos_sim-Recall@10\"], \"row\": [\"epoch\"]}, \"spec\": {\"data\": {\"name\": \"data-4e0d3526810a7f1d13275c7942fe0f28\"}, \"mark\": {\"type\": \"line\"}, \"encoding\": {\"color\": {\"field\": \"backbone_model\", \"type\": \"nominal\"}, \"x\": {\"field\": {\"repeat\": \"row\"}, \"type\": \"quantitative\"}, \"y\": {\"field\": {\"repeat\": \"column\"}, \"scale\": {\"domainMax\": 1.0, \"domainMin\": 0.88}, \"type\": \"quantitative\"}}, \"height\": 200, \"width\": 200}, \"$schema\": \"https://vega.github.io/schema/vega-lite/v5.8.0.json\", \"datasets\": {\"data-4e0d3526810a7f1d13275c7942fe0f28\": [{\"backbone_model\": \"CLIP_text\", \"epoch\": 1, \"cos_sim-NDCG@10\": 0.950084, \"cos_sim-MAP@100\": 0.937631, \"cos_sim-Recall@10\": 0.986712}, {\"backbone_model\": \"CLIP_text\", \"epoch\": 2, \"cos_sim-NDCG@10\": 0.954311, \"cos_sim-MAP@100\": 0.942291, \"cos_sim-Recall@10\": 0.989458}, {\"backbone_model\": \"CLIP_text\", \"epoch\": 3, \"cos_sim-NDCG@10\": 0.954671, \"cos_sim-MAP@100\": 0.942569, \"cos_sim-Recall@10\": 0.990043}, {\"backbone_model\": \"CLIP_text\", \"epoch\": 4, \"cos_sim-NDCG@10\": 0.952419, \"cos_sim-MAP@100\": 0.940104, \"cos_sim-Recall@10\": 0.9883}, {\"backbone_model\": \"CLIP_text\", \"epoch\": 5, \"cos_sim-NDCG@10\": 0.948816, \"cos_sim-MAP@100\": 0.935863, \"cos_sim-Recall@10\": 0.986605}, {\"backbone_model\": \"CLIP_text\", \"epoch\": 6, \"cos_sim-NDCG@10\": 0.947584, \"cos_sim-MAP@100\": 0.934942, \"cos_sim-Recall@10\": 0.98442}, {\"backbone_model\": \"CLIP_text\", \"epoch\": 7, \"cos_sim-NDCG@10\": 0.944318, \"cos_sim-MAP@100\": 0.931222, \"cos_sim-Recall@10\": 0.982808}, {\"backbone_model\": \"CLIP_text\", \"epoch\": 8, \"cos_sim-NDCG@10\": 0.941686, \"cos_sim-MAP@100\": 0.928413, \"cos_sim-Recall@10\": 0.980623}, {\"backbone_model\": \"CLIP_text\", \"epoch\": 9, \"cos_sim-NDCG@10\": 0.938534, \"cos_sim-MAP@100\": 0.924867, \"cos_sim-Recall@10\": 0.978761}, {\"backbone_model\": \"CLIP_text\", \"epoch\": 10, \"cos_sim-NDCG@10\": 0.938094, \"cos_sim-MAP@100\": 0.924289, \"cos_sim-Recall@10\": 0.978761}, {\"backbone_model\": \"BERT\", \"epoch\": 1, \"cos_sim-NDCG@10\": 0.905666, \"cos_sim-MAP@100\": 0.887309, \"cos_sim-Recall@10\": 0.960733}, {\"backbone_model\": \"BERT\", \"epoch\": 2, \"cos_sim-NDCG@10\": 0.919122, \"cos_sim-MAP@100\": 0.902176, \"cos_sim-Recall@10\": 0.969448}, {\"backbone_model\": \"BERT\", \"epoch\": 3, \"cos_sim-NDCG@10\": 0.92347, \"cos_sim-MAP@100\": 0.907371, \"cos_sim-Recall@10\": 0.971108}, {\"backbone_model\": \"BERT\", \"epoch\": 4, \"cos_sim-NDCG@10\": 0.928229, \"cos_sim-MAP@100\": 0.913335, \"cos_sim-Recall@10\": 0.972505}, {\"backbone_model\": \"BERT\", \"epoch\": 5, \"cos_sim-NDCG@10\": 0.926512, \"cos_sim-MAP@100\": 0.911278, \"cos_sim-Recall@10\": 0.971657}, {\"backbone_model\": \"BERT\", \"epoch\": 6, \"cos_sim-NDCG@10\": 0.929432, \"cos_sim-MAP@100\": 0.914704, \"cos_sim-Recall@10\": 0.972839}, {\"backbone_model\": \"BERT\", \"epoch\": 7, \"cos_sim-NDCG@10\": 0.929046, \"cos_sim-MAP@100\": 0.914126, \"cos_sim-Recall@10\": 0.973018}, {\"backbone_model\": \"BERT\", \"epoch\": 8, \"cos_sim-NDCG@10\": 0.928874, \"cos_sim-MAP@100\": 0.913759, \"cos_sim-Recall@10\": 0.973436}, {\"backbone_model\": \"BERT\", \"epoch\": 9, \"cos_sim-NDCG@10\": 0.929019, \"cos_sim-MAP@100\": 0.914301, \"cos_sim-Recall@10\": 0.972624}, {\"backbone_model\": \"BERT\", \"epoch\": 10, \"cos_sim-NDCG@10\": 0.929881, \"cos_sim-MAP@100\": 0.91527, \"cos_sim-Recall@10\": 0.973126}]}}, {\"mode\": \"vega-lite\"});\n",
       "</script>"
      ],
      "text/plain": [
       "alt.RepeatChart(...)"
      ]
     },
     "execution_count": 7,
     "metadata": {},
     "output_type": "execute_result"
    }
   ],
   "source": [
    "plot_hcc_line(df, xcol, ycols, catecol)"
   ]
  }
 ],
 "metadata": {
  "kernelspec": {
   "display_name": "Python 3 (ipykernel)",
   "language": "python",
   "name": "python3"
  },
  "language_info": {
   "codemirror_mode": {
    "name": "ipython",
    "version": 3
   },
   "file_extension": ".py",
   "mimetype": "text/x-python",
   "name": "python",
   "nbconvert_exporter": "python",
   "pygments_lexer": "ipython3",
   "version": "3.8.13"
  }
 },
 "nbformat": 4,
 "nbformat_minor": 5
}
